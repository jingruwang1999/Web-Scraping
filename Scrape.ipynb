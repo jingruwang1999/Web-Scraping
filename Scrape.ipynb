{
 "cells": [
  {
   "cell_type": "code",
   "execution_count": null,
   "metadata": {},
   "outputs": [],
   "source": [
    "from selenium import webdriver\n",
    "from bs4 import BeautifulSoup\n",
    "import pandas as pd\n",
    "from selenium import webdriver\n",
    "import json\n",
    "import requests\n",
    "import re\n",
    "from urllib.request import urlopen"
   ]
  },
  {
   "cell_type": "code",
   "execution_count": null,
   "metadata": {},
   "outputs": [],
   "source": [
    "def get_listings(num_pages):\n",
    "    all_links = set()\n",
    "    url_ = \"https://ws-public.interpol.int/notices/v1/red?resultPerPage=20&page={}\"\n",
    "    for page in range(1,num_pages+1):\n",
    "        url = url_.format(str(page))\n",
    "        content = BeautifulSoup(requests.get(url).content, \"html.parser\").text\n",
    "        links = re.findall(\"https://ws-public.interpol.int/notices/v1/red/\\d{4}-\\d{5}\", content)\n",
    "        for link in links:\n",
    "            all_links.add(link)\n",
    "    return all_links"
   ]
  },
  {
   "cell_type": "code",
   "execution_count": null,
   "metadata": {},
   "outputs": [],
   "source": [
    "#soup = BeautifulSoup(requests.get(url.format(test)).content, \"html.parser\")\n",
    "def read_attrs(links):\n",
    "    persons = []\n",
    "    for url in links:\n",
    "        link = urlopen(url)\n",
    "        html = link.read().decode('utf-8')\n",
    "        link.close()\n",
    "        \n",
    "        soup = BeautifulSoup(html) \n",
    "        persons.append(soup.text)\n",
    "    return persons\n"
   ]
  },
  {
   "cell_type": "code",
   "execution_count": null,
   "metadata": {},
   "outputs": [],
   "source": [
    "def output_json(persons, name = \"data.json\"):\n",
    "    dict_ = {\"source_code\": \"INTERPOL_RN\",\n",
    "                \"source_name\": \"INTERPOL Red Notices\",\n",
    "                \"source_url\": \"https://www.interpol.int/How-we-work/Notices/View-Red-Notices\",\"people\":[]}\n",
    "    \n",
    "    \n",
    "    \n",
    "    cols = [\"name\", \"forename\", \"sex_id\",\"date_of_birth\",  \"country_of_birth_id\", \"place_of_birth\",\n",
    "            \"nationalities\",'languages_spoken_ids', \"height\", \"weight\", \"eyes_colors_id\",\n",
    "            \"hairs_id\", \"distinguishing_marks\"]\n",
    "    other = [\"entity_id\",\"arrest_warrants\", \"_embedded\", \"_links\"]\n",
    "    \n",
    "    for person in persons:\n",
    "        curr_dict = {}\n",
    "        data = json.loads(person)\n",
    "        ##For more intuitive ordering of attributes\n",
    "        curr_dict[\"ID\"] = {cols[i]:data[cols[i]] for i in range(13)}\n",
    "        curr_dict[\"other\"] = {other[i]: data[other[i]] for i in range(4)}\n",
    "        dict_[\"people\"].append(curr_dict)\n",
    "    \n",
    "    with open(name, 'w') as f:\n",
    "        json.dump(dict_, f, ensure_ascii=False, indent=2)\n"
   ]
  },
  {
   "cell_type": "code",
   "execution_count": null,
   "metadata": {},
   "outputs": [],
   "source": [
    "links = get_listings(2) #get links for 2 pages\n",
    "persons = read_attrs(links) #get information for everyone in the 2 pages\n",
    "\n",
    "output_json(persons) #outpt json file default name is data.json\n"
   ]
  }
 ],
 "metadata": {
  "kernelspec": {
   "display_name": "Python 3",
   "language": "python",
   "name": "python3"
  },
  "language_info": {
   "codemirror_mode": {
    "name": "ipython",
    "version": 3
   },
   "file_extension": ".py",
   "mimetype": "text/x-python",
   "name": "python",
   "nbconvert_exporter": "python",
   "pygments_lexer": "ipython3",
   "version": "3.7.3"
  }
 },
 "nbformat": 4,
 "nbformat_minor": 2
}
